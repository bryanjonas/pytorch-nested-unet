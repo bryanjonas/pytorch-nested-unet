{
 "cells": [
  {
   "cell_type": "code",
   "execution_count": 1,
   "metadata": {},
   "outputs": [],
   "source": [
    "from rasterio import open\n",
    "from glob import glob\n",
    "import numpy as np"
   ]
  },
  {
   "cell_type": "code",
   "execution_count": 2,
   "metadata": {},
   "outputs": [],
   "source": [
    "path_to_images = \"/data/spacenet/bldg/data/pytorch-PAN/images/\"\n",
    "image_files = glob(path_to_images + \"/*.tif\")\n",
    "band_count = 1"
   ]
  },
  {
   "cell_type": "code",
   "execution_count": 3,
   "metadata": {},
   "outputs": [],
   "source": [
    "file_band_means = np.zeros((len(image_files), band_count))\n",
    "file_band_stds = np.zeros((len(image_files), band_count))"
   ]
  },
  {
   "cell_type": "code",
   "execution_count": 4,
   "metadata": {},
   "outputs": [],
   "source": [
    "for idx, image in enumerate(image_files):\n",
    "    raster_file = open(image)\n",
    "    for band_idx in range(raster_file.count):\n",
    "        band = raster_file.read(band_idx + 1)\n",
    "        band_mean = band.mean()\n",
    "        band_std = band.std()\n",
    "        file_band_means[idx, band_idx] = band_mean\n",
    "        file_band_stds[idx, band_idx] = band_std"
   ]
  },
  {
   "cell_type": "code",
   "execution_count": 5,
   "metadata": {},
   "outputs": [],
   "source": [
    "global_mean = file_band_means.mean(axis=0)\n",
    "global_std = file_band_stds.mean(axis=0)\n",
    "res = np.stack((np.array(global_mean), np.array(global_std)), axis=0)\n",
    "res = res.transpose()"
   ]
  },
  {
   "cell_type": "code",
   "execution_count": 6,
   "metadata": {},
   "outputs": [
    {
     "data": {
      "text/plain": [
       "array([[465.44523522, 166.47386568]])"
      ]
     },
     "execution_count": 6,
     "metadata": {},
     "output_type": "execute_result"
    }
   ],
   "source": [
    "res"
   ]
  },
  {
   "cell_type": "code",
   "execution_count": null,
   "metadata": {},
   "outputs": [],
   "source": []
  }
 ],
 "metadata": {
  "kernelspec": {
   "display_name": "Python 3",
   "language": "python",
   "name": "python3"
  },
  "language_info": {
   "codemirror_mode": {
    "name": "ipython",
    "version": 3
   },
   "file_extension": ".py",
   "mimetype": "text/x-python",
   "name": "python",
   "nbconvert_exporter": "python",
   "pygments_lexer": "ipython3",
   "version": "3.8.5"
  }
 },
 "nbformat": 4,
 "nbformat_minor": 4
}
